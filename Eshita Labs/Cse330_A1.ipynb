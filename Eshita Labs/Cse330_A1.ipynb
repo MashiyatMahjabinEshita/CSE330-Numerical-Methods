{
  "nbformat": 4,
  "nbformat_minor": 0,
  "metadata": {
    "colab": {
      "provenance": []
    },
    "kernelspec": {
      "name": "python3",
      "display_name": "Python 3"
    },
    "language_info": {
      "name": "python"
    }
  },
  "cells": [
    {
      "cell_type": "code",
      "source": [
        "import numpy as np\n",
        "\n",
        "arr = np.array([1 , 2, 3])\n",
        "\n",
        "print(arr)\n",
        "\n",
        "print(type(arr))"
      ],
      "metadata": {
        "colab": {
          "base_uri": "https://localhost:8080/"
        },
        "id": "AwdV7TiNB-HF",
        "outputId": "dfabb87b-b08d-4c76-b050-4eba808744a0"
      },
      "execution_count": null,
      "outputs": [
        {
          "output_type": "stream",
          "name": "stdout",
          "text": [
            "[1 2 3]\n",
            "<class 'numpy.ndarray'>\n"
          ]
        }
      ]
    },
    {
      "cell_type": "code",
      "source": [
        "\n",
        "print(len(arr))\n",
        "print(arr.shape)"
      ],
      "metadata": {
        "colab": {
          "base_uri": "https://localhost:8080/"
        },
        "id": "Qcgf927tB_sb",
        "outputId": "6698e440-3dbc-4872-e6ad-62ab5033e4f1"
      },
      "execution_count": null,
      "outputs": [
        {
          "output_type": "stream",
          "name": "stdout",
          "text": [
            "3\n",
            "(3,)\n"
          ]
        }
      ]
    },
    {
      "cell_type": "code",
      "source": [
        "#append\n",
        "x = np.array([1, 2, 3, 4, 5])\n",
        "y = np.append(x, [50, 70])\n",
        "print(y)\n"
      ],
      "metadata": {
        "colab": {
          "base_uri": "https://localhost:8080/"
        },
        "id": "0-SoTSs8CB4L",
        "outputId": "737c44b0-fa8f-42f9-e3b9-9cf026223dfa"
      },
      "execution_count": null,
      "outputs": [
        {
          "output_type": "stream",
          "name": "stdout",
          "text": [
            "[ 1  2  3  4  5 50 70]\n"
          ]
        }
      ]
    },
    {
      "cell_type": "code",
      "source": [
        "#delete\n",
        "x = np.array([1, 2, 3, 4, 5])\n",
        "y = np.delete(x, 2)\n",
        "print(x)\n",
        "print(y)\n"
      ],
      "metadata": {
        "colab": {
          "base_uri": "https://localhost:8080/"
        },
        "id": "X_VarK_3CJ_6",
        "outputId": "8ecd8779-47f4-42a5-8489-ffcd3bf40da6"
      },
      "execution_count": null,
      "outputs": [
        {
          "output_type": "stream",
          "name": "stdout",
          "text": [
            "[1 2 3 4 5]\n",
            "[1 2 4 5]\n"
          ]
        }
      ]
    },
    {
      "cell_type": "code",
      "source": [
        "#sorting\n",
        "x = np.array([7, 8, 3, 10, 5])\n",
        "sorted_x = np.sort(x)\n",
        "print(sorted_x)\n",
        "print(sorted_x[::-1]) # sort ascending # decending sort slicing"
      ],
      "metadata": {
        "colab": {
          "base_uri": "https://localhost:8080/"
        },
        "id": "nIQV2GTHCLca",
        "outputId": "fc48f3ff-a7a2-4c92-e78f-1490ce1b7ebf"
      },
      "execution_count": null,
      "outputs": [
        {
          "output_type": "stream",
          "name": "stdout",
          "text": [
            "[ 3  5  7  8 10]\n",
            "[10  8  7  5  3]\n"
          ]
        }
      ]
    },
    {
      "cell_type": "code",
      "source": [
        "arr_2d = np.array([[1, 2, 3], [4, 5, 6]])\n",
        "print(arr_2d)\n",
        "\n",
        "print(len(arr_2d))\n",
        "print(arr_2d.shape)\n",
        "print(arr_2d.ndim)  #ndim for dimension checking , checking the funtionality of numpy"
      ],
      "metadata": {
        "colab": {
          "base_uri": "https://localhost:8080/"
        },
        "id": "HYhofnxkCQmi",
        "outputId": "a75da6ef-6cd1-4955-89c9-6095a30183c9"
      },
      "execution_count": null,
      "outputs": [
        {
          "output_type": "stream",
          "name": "stdout",
          "text": [
            "[[1 2 3]\n",
            " [4 5 6]]\n",
            "2\n",
            "(2, 3)\n",
            "2\n"
          ]
        }
      ]
    },
    {
      "cell_type": "code",
      "source": [
        "\n",
        "#indexing\n",
        "\n",
        "arr = np.array([1, 2, 3, 4])\n",
        "print(arr[0])\n",
        "print(arr[-1])\n",
        "\n",
        "arr = np.array([[1,2,3,4,5], [6,7,8,9,10]])\n",
        "print('4th element on 2nd dim: ', arr[0, 3])\n",
        "print('5th element on 2nd dim: ', arr[1, 4])"
      ],
      "metadata": {
        "colab": {
          "base_uri": "https://localhost:8080/"
        },
        "id": "84DU2WWYCj9k",
        "outputId": "30fb6def-2616-4d69-dbb3-33bc3f52c18b"
      },
      "execution_count": null,
      "outputs": [
        {
          "output_type": "stream",
          "name": "stdout",
          "text": [
            "1\n",
            "4\n",
            "4th element on 2nd dim:  4\n",
            "5th element on 2nd dim:  10\n"
          ]
        }
      ]
    },
    {
      "cell_type": "code",
      "source": [
        "#Slicing -> [start:end:step]\n",
        "#The result includes the start index, but excludes the end index."
      ],
      "metadata": {
        "id": "BxmQyuD1Cnmi"
      },
      "execution_count": null,
      "outputs": []
    },
    {
      "cell_type": "code",
      "source": [
        "\n",
        "arr = np.array([1, 2, 3, 4, 5, 6, 7])\n",
        "print(arr[4:])\n",
        "print(arr[:4])\n",
        "print(arr[-3:-1])\n",
        "print(arr[1:5:2])"
      ],
      "metadata": {
        "colab": {
          "base_uri": "https://localhost:8080/"
        },
        "id": "URLLPeHpCp37",
        "outputId": "66ffffbb-1464-4b41-aa1a-9d6eeeb8239f"
      },
      "execution_count": null,
      "outputs": [
        {
          "output_type": "stream",
          "name": "stdout",
          "text": [
            "[5 6 7]\n",
            "[1 2 3 4]\n",
            "[5 6]\n",
            "[2 4]\n"
          ]
        }
      ]
    },
    {
      "cell_type": "code",
      "source": [
        "#Slicing 2-D Arrays\n",
        "\n",
        "#From the second element, slice elements from index 1 to index 4 (not included):\n",
        "\n",
        "arr = np.array([[1, 2, 3, 4, 5], [6, 7, 8, 9, 10]])\n",
        "print(arr[1, 1:4])\n",
        "\n",
        "#from both elements, slice index 1 to index 4 (not included)\n",
        "print(arr[0:2, 1:4]) # first part for row select(eikhane 2) , 2nd part for element select\n"
      ],
      "metadata": {
        "colab": {
          "base_uri": "https://localhost:8080/"
        },
        "id": "3RUojaqsDxrq",
        "outputId": "b9339e1f-ca10-4750-a8e2-c70d9aa5d603"
      },
      "execution_count": null,
      "outputs": [
        {
          "output_type": "stream",
          "name": "stdout",
          "text": [
            "[7 8 9]\n",
            "[[2 3 4]\n",
            " [7 8 9]]\n"
          ]
        }
      ]
    },
    {
      "cell_type": "code",
      "source": [
        "arr = np.array([[1, 2, 3, 4, 5], [6, 7, 8, 9, 10]])\n",
        "print (arr)\n"
      ],
      "metadata": {
        "colab": {
          "base_uri": "https://localhost:8080/"
        },
        "id": "sjxRG7bND-0I",
        "outputId": "0dca51c4-d91e-4e26-8ebf-0bb9d6fecf97"
      },
      "execution_count": null,
      "outputs": [
        {
          "output_type": "stream",
          "name": "stdout",
          "text": [
            "[[ 1  2  3  4  5]\n",
            " [ 6  7  8  9 10]]\n"
          ]
        }
      ]
    },
    {
      "cell_type": "code",
      "source": [
        "print(arr[0:2],) # getting the full row\n",
        "print(arr[:, 0]) # column\n",
        "print(arr[0, :]) # row"
      ],
      "metadata": {
        "colab": {
          "base_uri": "https://localhost:8080/"
        },
        "id": "cIDyOLLLEAxY",
        "outputId": "4080f94a-b5ae-4489-e7b2-f03f5b06feba"
      },
      "execution_count": null,
      "outputs": [
        {
          "output_type": "stream",
          "name": "stdout",
          "text": [
            "[[ 1  2  3  4  5]\n",
            " [ 6  7  8  9 10]]\n",
            "[1 6]\n",
            "[1 2 3 4 5]\n"
          ]
        }
      ]
    },
    {
      "cell_type": "code",
      "source": [
        "#special numpy functions"
      ],
      "metadata": {
        "id": "BNhC6d9vFgxA"
      },
      "execution_count": null,
      "outputs": []
    },
    {
      "cell_type": "code",
      "source": [
        "#zero matrix\n",
        "x=np.zeros(2) #one d array in numpy\n",
        "print(x)"
      ],
      "metadata": {
        "colab": {
          "base_uri": "https://localhost:8080/"
        },
        "id": "H7JuwbATFjl4",
        "outputId": "f9991c7b-030a-4c4d-c492-cb4c162ee53b"
      },
      "execution_count": null,
      "outputs": [
        {
          "output_type": "stream",
          "name": "stdout",
          "text": [
            "[0. 0.]\n"
          ]
        }
      ]
    },
    {
      "cell_type": "code",
      "source": [
        "y=np.zeros((4,2)) #2d array\n",
        "print(y)"
      ],
      "metadata": {
        "colab": {
          "base_uri": "https://localhost:8080/"
        },
        "id": "qwPO94C1Fv6Q",
        "outputId": "a3d64130-b7b8-4eb9-939d-64d34c2e376f"
      },
      "execution_count": null,
      "outputs": [
        {
          "output_type": "stream",
          "name": "stdout",
          "text": [
            "[[0. 0.]\n",
            " [0. 0.]\n",
            " [0. 0.]\n",
            " [0. 0.]]\n"
          ]
        }
      ]
    },
    {
      "cell_type": "code",
      "source": [
        "a = np.array([3, 4, 5])\n",
        "b = np.array([[1,2,3],[4,5,6]])\n",
        "\n",
        "print(np.sum(a))\n",
        "print(np.sum(b))\n",
        "\n",
        "print(np.prod(a))\n",
        "print(np.prod(b))"
      ],
      "metadata": {
        "colab": {
          "base_uri": "https://localhost:8080/"
        },
        "id": "twBnJJysF4VJ",
        "outputId": "782b997e-e8da-45e6-b904-8e561666f24b"
      },
      "execution_count": null,
      "outputs": [
        {
          "output_type": "stream",
          "name": "stdout",
          "text": [
            "12\n",
            "21\n",
            "60\n",
            "720\n"
          ]
        }
      ]
    },
    {
      "cell_type": "code",
      "source": [
        "print(np.sum(b, axis=0)) # column wise addition when axis =0\n",
        "print(np.sum(b, axis=1)) # row  wise addition when axis = 1"
      ],
      "metadata": {
        "colab": {
          "base_uri": "https://localhost:8080/"
        },
        "id": "BNarzqgaGb8p",
        "outputId": "38da6c6b-ab0c-41a3-f67a-c91e37f94907"
      },
      "execution_count": null,
      "outputs": [
        {
          "output_type": "stream",
          "name": "stdout",
          "text": [
            "[5 7 9]\n",
            "[ 6 15]\n"
          ]
        }
      ]
    },
    {
      "cell_type": "code",
      "source": [
        "\n",
        "#logical indexing\n",
        "\n",
        "print(b > 2)\n",
        "print(b[b>2])"
      ],
      "metadata": {
        "colab": {
          "base_uri": "https://localhost:8080/"
        },
        "id": "vhI5nB88Gl2Q",
        "outputId": "31c31d59-533f-4bb9-ad09-81db1af2bef3"
      },
      "execution_count": null,
      "outputs": [
        {
          "output_type": "stream",
          "name": "stdout",
          "text": [
            "[[False False  True]\n",
            " [ True  True  True]]\n",
            "[3 4 5 6]\n"
          ]
        }
      ]
    },
    {
      "cell_type": "code",
      "source": [
        "\n",
        "print(b[ b > 2 ])\n",
        "b[ b > 2 ] = 100 # replacing with 100\n",
        "print(b)"
      ],
      "metadata": {
        "colab": {
          "base_uri": "https://localhost:8080/"
        },
        "id": "YW0liUzrHOqX",
        "outputId": "71c241c4-9a49-46e0-833a-1f64d72345a7"
      },
      "execution_count": null,
      "outputs": [
        {
          "output_type": "stream",
          "name": "stdout",
          "text": [
            "[3 4 5 6]\n",
            "[[  1   2 100]\n",
            " [100 100 100]]\n"
          ]
        }
      ]
    },
    {
      "cell_type": "code",
      "source": [
        "#iterating numpy array\n",
        "\n",
        "arr = np.array([1, 2, 3])\n",
        "for x in arr:\n",
        "  print(x)\n",
        "\n",
        "arr = np.array([[1, 2, 3], [4, 5, 6]])\n",
        "for x in arr:\n",
        "  print(x)"
      ],
      "metadata": {
        "colab": {
          "base_uri": "https://localhost:8080/"
        },
        "id": "NGHlF4yfHdhf",
        "outputId": "b9d6b579-5d71-44dd-90cf-6009f6a0cbd7"
      },
      "execution_count": null,
      "outputs": [
        {
          "output_type": "stream",
          "name": "stdout",
          "text": [
            "1\n",
            "2\n",
            "3\n",
            "[1 2 3]\n",
            "[4 5 6]\n"
          ]
        }
      ]
    },
    {
      "cell_type": "code",
      "source": [
        "#nested loop\n",
        "arr = np.array([[1, 2, 3], [4, 5, 6]])\n",
        "for i in arr:\n",
        "  for j in i:\n",
        "    print(j)"
      ],
      "metadata": {
        "colab": {
          "base_uri": "https://localhost:8080/"
        },
        "id": "d9IxR-L8HgOg",
        "outputId": "64198d2c-f457-4b2f-ba16-0c98f039c881"
      },
      "execution_count": null,
      "outputs": [
        {
          "output_type": "stream",
          "name": "stdout",
          "text": [
            "1\n",
            "2\n",
            "3\n",
            "4\n",
            "5\n",
            "6\n"
          ]
        }
      ]
    },
    {
      "cell_type": "code",
      "source": [
        "#linspace\n",
        "x = np.linspace(0, 100, 51) #even number #diff always same\n",
        "print(x)\n",
        "\n",
        "y = np.linspace(0,12,8) # start,end,numbers\n",
        "print(y)\n"
      ],
      "metadata": {
        "colab": {
          "base_uri": "https://localhost:8080/"
        },
        "id": "w2WBxWRDHyqY",
        "outputId": "6ca09b80-0a7e-434e-b96b-09754316675f"
      },
      "execution_count": null,
      "outputs": [
        {
          "output_type": "stream",
          "name": "stdout",
          "text": [
            "[  0.   2.   4.   6.   8.  10.  12.  14.  16.  18.  20.  22.  24.  26.\n",
            "  28.  30.  32.  34.  36.  38.  40.  42.  44.  46.  48.  50.  52.  54.\n",
            "  56.  58.  60.  62.  64.  66.  68.  70.  72.  74.  76.  78.  80.  82.\n",
            "  84.  86.  88.  90.  92.  94.  96.  98. 100.]\n",
            "[ 0.          1.71428571  3.42857143  5.14285714  6.85714286  8.57142857\n",
            " 10.28571429 12.        ]\n"
          ]
        }
      ]
    },
    {
      "cell_type": "code",
      "source": [
        "\n",
        "#Numpy array element wise operation\n",
        "print(x + 10)"
      ],
      "metadata": {
        "colab": {
          "base_uri": "https://localhost:8080/"
        },
        "id": "ye9jozXdIXko",
        "outputId": "cc4fb80b-4039-40d0-e694-87a721f16b45"
      },
      "execution_count": null,
      "outputs": [
        {
          "output_type": "stream",
          "name": "stdout",
          "text": [
            "[ 10.  12.  14.  16.  18.  20.  22.  24.  26.  28.  30.  32.  34.  36.\n",
            "  38.  40.  42.  44.  46.  48.  50.  52.  54.  56.  58.  60.  62.  64.\n",
            "  66.  68.  70.  72.  74.  76.  78.  80.  82.  84.  86.  88.  90.  92.\n",
            "  94.  96.  98. 100. 102. 104. 106. 108. 110.]\n"
          ]
        }
      ]
    },
    {
      "cell_type": "code",
      "source": [
        "#using customized arithmetic operations\n",
        "y = np.array([1, 2, 3, 4])\n",
        "z = np.array([10, 10, 20, 30])\n",
        "print(y ** 2)\n",
        "print(2*y + z)"
      ],
      "metadata": {
        "colab": {
          "base_uri": "https://localhost:8080/"
        },
        "id": "_hPs0PMQImwn",
        "outputId": "ce3a0fe7-edbf-4208-ac3e-309b9b3146a6"
      },
      "execution_count": null,
      "outputs": [
        {
          "output_type": "stream",
          "name": "stdout",
          "text": [
            "[ 1  4  9 16]\n",
            "[12 14 26 38]\n"
          ]
        }
      ]
    },
    {
      "cell_type": "markdown",
      "source": [
        "# Pandas"
      ],
      "metadata": {
        "id": "aEuYX-myI-_o"
      }
    },
    {
      "cell_type": "code",
      "source": [
        "import pandas as pd"
      ],
      "metadata": {
        "id": "mssPIjkEIz3B"
      },
      "execution_count": null,
      "outputs": []
    },
    {
      "cell_type": "code",
      "source": [
        "\n",
        "#dataframes-> 2 dimensional data structure\n",
        "\n",
        "import pandas as pd\n",
        "\n",
        "data = {\n",
        "  \"name\": ['Arif', 'Nafis', 'Hasan'],\n",
        "  \"age\": [35, 30, 40]\n",
        "}\n",
        "\n",
        "#load data into a DataFrame object:\n",
        "df = pd.DataFrame(data)\n",
        "\n",
        "print(df)"
      ],
      "metadata": {
        "colab": {
          "base_uri": "https://localhost:8080/"
        },
        "id": "Sv0nXgD0JVkY",
        "outputId": "87c147e5-f767-435c-b75f-9f9c2e5271fb"
      },
      "execution_count": null,
      "outputs": [
        {
          "output_type": "stream",
          "name": "stdout",
          "text": [
            "    name  age\n",
            "0   Arif   35\n",
            "1  Nafis   30\n",
            "2  Hasan   40\n"
          ]
        }
      ]
    },
    {
      "cell_type": "code",
      "source": [
        "print(df.loc[0]) #loc attribute"
      ],
      "metadata": {
        "colab": {
          "base_uri": "https://localhost:8080/"
        },
        "id": "fWkqzFlFJ25v",
        "outputId": "08afb58b-f32a-466f-f390-1dd43f9b0c80"
      },
      "execution_count": null,
      "outputs": [
        {
          "output_type": "stream",
          "name": "stdout",
          "text": [
            "name    Arif\n",
            "age       35\n",
            "Name: 0, dtype: object\n"
          ]
        }
      ]
    },
    {
      "cell_type": "code",
      "source": [
        "#kind define kora in pandas , coreation relate"
      ],
      "metadata": {
        "id": "fsrJI37BPApX"
      },
      "execution_count": null,
      "outputs": []
    }
  ]
}